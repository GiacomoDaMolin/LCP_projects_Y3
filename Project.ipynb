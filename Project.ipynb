{
 "cells": [
  {
   "cell_type": "markdown",
   "metadata": {},
   "source": [
    "# Spotting stellar-mass black holes in star clusters\n",
    "\n",
    "### Description\n",
    "\n",
    "Mergers of stellar black holes are one of the most powerful sources of gravitational waves in the frequency range of ground-based gravitational wave detectors: 10 black hole mergers where reported by the LIGO-Virgo collaboration so far. In star clusters, stellar black holes can form binary systems through dynamical interactions and accrete mass through mergers. Understanding the dynamics of black holes in star clusters is of foremost importance to interpret current and forthcoming gravitational wave detections. \n",
    "\n",
    "\n",
    "### Assignments\n",
    "\n",
    "The project consists in analyzing a sample of $\\sim 10$ direct $N-$body simulations of star clusters to extract information on stellar black holes and in particular address the following questions:\n",
    "\n",
    "* what is their mass function? \n",
    "* how many of them are in binary systems? \n",
    "* what is the evolution of such binaries? (optional)\n",
    "\n",
    "\n",
    "### Datasets\n",
    "\n",
    "The relevant datasets will be found on the `/data/stellar_blackholes/` directory on your VM LCPmodA-Y3-Gr19 (10.67.22.49). Please contact prof. Zanetti first, data need to be copied.\n",
    "Within that directory there are 10 folders each containing the datasets corresponding to a different star cluster simulation.\n",
    "\n",
    "The simulation have been produced with the code [NBODY6++GPU](https://github.com/nbodyx/Nbody6ppGPU)\n",
    "\n",
    "\n",
    "### Contacts\n",
    "\n",
    "* Michela Mapelli <michela.mapelli@unipd.it>\n",
    "* Mario Pasquato <mario.pasquato@gmail.com>"
   ]
  },
  {
   "cell_type": "code",
   "execution_count": null,
   "metadata": {},
   "outputs": [],
   "source": []
  }
 ],
 "metadata": {
  "kernelspec": {
   "display_name": "Python 3",
   "language": "python",
   "name": "python3"
  },
  "language_info": {
   "codemirror_mode": {
    "name": "ipython",
    "version": 3
   },
   "file_extension": ".py",
   "mimetype": "text/x-python",
   "name": "python",
   "nbconvert_exporter": "python",
   "pygments_lexer": "ipython3",
   "version": "3.5.4"
  }
 },
 "nbformat": 4,
 "nbformat_minor": 2
}
