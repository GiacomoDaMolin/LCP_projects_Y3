{
 "cells": [
  {
   "cell_type": "markdown",
   "metadata": {},
   "source": [
    "# Study of vehicular traffic \n",
    "\n",
    "### Description \n",
    "\n",
    "Data have been gathered in the city of Koln in Germany of the positions of vehiculs at a rate of 1 Hz. The goal of the project is to map this data on a network and implement algorithms that predict the evolutionof the traffic.\n",
    "\n",
    "### Assignments\n",
    "1. Superimpose the data concerning a set of monitoring stations to a map of the city\n",
    "2. Assess the handovers performed by the individual vehiculs, i.e. the transitions between a given monitoring station and the next one\n",
    "3. Implement an algorithm to predict the handovers to the next stations\n",
    "\n",
    "### Contacts\n",
    "Michele Rossi <mirossi@dei.unipd.it>\n",
    "\n"
   ]
  },
  {
   "cell_type": "code",
   "execution_count": null,
   "metadata": {},
   "outputs": [],
   "source": []
  }
 ],
 "metadata": {
  "kernelspec": {
   "display_name": "Python 3",
   "language": "python",
   "name": "python3"
  },
  "language_info": {
   "codemirror_mode": {
    "name": "ipython",
    "version": 3
   },
   "file_extension": ".py",
   "mimetype": "text/x-python",
   "name": "python",
   "nbconvert_exporter": "python",
   "pygments_lexer": "ipython3",
   "version": "3.5.4"
  }
 },
 "nbformat": 4,
 "nbformat_minor": 2
}
