{
 "cells": [
  {
   "cell_type": "markdown",
   "metadata": {},
   "source": [
    "# Cellular Automata S.I.R. Model\n",
    "\n",
    "### Description\n",
    "\n",
    "Based on the reference [paper](https://www.math.uh.edu/~zpkilpat/teaching/math4309/project/physa99_fuentes.pdf), the aim of the project is to simulate and then study the evolution of Susceptible-Infected-Removed populations over space and time.\n",
    "\n",
    "### Assignments\n",
    "1. Consider a grid of a given form (squared or exagonal or whatever) and then let propagate the SIR model. \n",
    "2. Repeat point 1 several times in order to obtain several reference datasets\n",
    "3. Try to predict the evolution of the epidemic both in space and time on the basis of the previous steps, e.g. by means of \n",
    "4. Define a metric on how the epidemic evolved e.g. assigning a probability for a given node not to get infected or predict the fraction of the nodes that got infected at the end of the epidemic\n",
    "\n",
    "### Contancts\n",
    "* Leonardo Badia <badia@dei.unipd.it>"
   ]
  },
  {
   "cell_type": "code",
   "execution_count": null,
   "metadata": {},
   "outputs": [],
   "source": []
  }
 ],
 "metadata": {
  "kernelspec": {
   "display_name": "Python 3",
   "language": "python",
   "name": "python3"
  },
  "language_info": {
   "codemirror_mode": {
    "name": "ipython",
    "version": 3
   },
   "file_extension": ".py",
   "mimetype": "text/x-python",
   "name": "python",
   "nbconvert_exporter": "python",
   "pygments_lexer": "ipython3",
   "version": "3.5.4"
  }
 },
 "nbformat": 4,
 "nbformat_minor": 2
}
