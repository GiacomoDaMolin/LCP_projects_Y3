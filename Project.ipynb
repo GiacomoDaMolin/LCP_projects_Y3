{
 "cells": [
  {
   "cell_type": "markdown",
   "metadata": {},
   "source": [
    "# Delay Tolerant Networks\n",
    "\n",
    "### Description\n",
    "\n",
    "In several instances, network communications can occur with relevant delays, as for extra-terrestial communications or for supervised monitoring networks. In such network deciding which node can communicate with which other node and when is extremely complicated issue (a np-completed scheduling problem).\n",
    "\n",
    "### Assignments\n",
    "\n",
    "1. Generate a series of patterns of trasmissions on a network represented as a graph. In such graph the edges are weighted accordingly to the delay between transmittion and reception.\n",
    "2. Implement euristic algorithms to lower the potential of the network, i.e. aiming at minimizing the distance of the communications from their final destination.\n",
    "3. Find out the most efficient algorithm\n",
    "\n",
    "### Contacts\n",
    "Leonardo Badia <badia@dei.unipd.it>"
   ]
  },
  {
   "cell_type": "code",
   "execution_count": null,
   "metadata": {},
   "outputs": [],
   "source": []
  }
 ],
 "metadata": {
  "kernelspec": {
   "display_name": "Python 3",
   "language": "python",
   "name": "python3"
  },
  "language_info": {
   "codemirror_mode": {
    "name": "ipython",
    "version": 3
   },
   "file_extension": ".py",
   "mimetype": "text/x-python",
   "name": "python",
   "nbconvert_exporter": "python",
   "pygments_lexer": "ipython3",
   "version": "3.5.4"
  }
 },
 "nbformat": 4,
 "nbformat_minor": 2
}
